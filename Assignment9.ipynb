{
 "cells": [
  {
   "cell_type": "code",
   "execution_count": null,
   "id": "bbb46836-39db-40bf-941b-42eee1ae5cf7",
   "metadata": {},
   "outputs": [],
   "source": [
    "(Q.1)\n",
    "In Python, the `Exception` class serves as the base class for all exceptions. When creating a custom exception, it is recommended to derive your custom exception class from the `Exception` class. Here are a few reasons why using the `Exception` class is beneficial:\n",
    "\n",
    "1. Inheritance: By inheriting from the `Exception` class, your custom exception inherits all the standard behavior and functionality of built-in exceptions in Python. This includes features like capturing the traceback, handling exceptions with try-except blocks, and propagating exceptions up the call stack.\n",
    "\n",
    "2. Compatibility: By using the `Exception` class as the base class, your custom exception adheres to the standard exception hierarchy in Python. This ensures compatibility with existing exception handling mechanisms and coding practices in Python. Other developers who encounter your custom exception will recognize it as an exception and be able to handle it appropriately.\n",
    "\n",
    "3. Consistency: By using the `Exception` class, you maintain consistency with the standard library and other third-party libraries that also follow this convention. It makes your custom exception easily recognizable and predictable to other developers familiar with Python's exception handling.\n",
    "\n",
    "4. Clarity and Readability: When someone reads your code, using the `Exception` class as the base class for your custom exception makes it clear that the class represents an exception. It enhances code readability and helps other developers understand the purpose and intent of your custom exception.\n",
    "\n",
    "In summary, using the `Exception` class as the base class for custom exceptions in Python provides compatibility, inheritance, consistency, and improves code clarity and readability. It allows your custom exception to seamlessly integrate with Python's exception handling mechanisms and promotes good coding practices."
   ]
  },
  {
   "cell_type": "code",
   "execution_count": null,
   "id": "08756d06-c1c7-4cf3-93c1-e4ef59344075",
   "metadata": {},
   "outputs": [],
   "source": [
    "(Q.2)\n",
    "def print_exception_hierarchy(exception_cls, indent=0):\n",
    "    print(\"  \" * indent + exception_cls.__name__)\n",
    "    for subclass in exception_cls.__subclasses__():\n",
    "        print_exception_hierarchy(subclass, indent + 1)\n",
    "\n",
    "\n",
    "print_exception_hierarchy(BaseException)\n"
   ]
  },
  {
   "cell_type": "markdown",
   "id": "9c5611dc-a16e-4e03-b5ea-f846b49aba3e",
   "metadata": {},
   "source": [
    "(Q.3)\n",
    "1) ZeroDivisionError: This error occurs when a division or modulo operation is performed with a divisor of zero.\n",
    "\n",
    "Example:\n",
    "    dividend = 10\n",
    "divisor = 0\n",
    "\n",
    "try:\n",
    "    result = dividend / divisor\n",
    "except ZeroDivisionError as e:\n",
    "    print(\"Error: Division by zero\")\n",
    "\n",
    "    \n",
    "2) OverflowError: This error occurs when the result of an arithmetic operation exceeds the maximum representable value for a numeric type.\n",
    "\n",
    "Example:\n",
    "    a = 2 ** 1000  # 2 raised to the power of 1000\n",
    "\n",
    "try:\n",
    "    b = a * a * a\n",
    "except OverflowError as e:\n",
    "    print(\"Error: Numeric overflow\")\n"
   ]
  },
  {
   "cell_type": "markdown",
   "id": "bad0c8d8-3928-4ac1-a18e-56493791c6d8",
   "metadata": {},
   "source": [
    "(Q.4)\n",
    "The LookupError class in Python is a base class for exceptions that occur when an invalid lookup or indexing operation is performed. It serves as a superclass for exceptions related to lookup failures or index errors. \n",
    "Two subclasses of lookup error are:\n",
    "\n",
    "KeyError: This exception is raised when a dictionary key is not found.\n",
    "\n",
    "Example:\n",
    "my_dict = {'a': 1, 'b': 2, 'c': 3}\n",
    "\n",
    "try:\n",
    "    value = my_dict['d']\n",
    "except KeyError as e:\n",
    "    print(\"Error: Key not found\")\n",
    "\n",
    "IndexError: This exception occurs when an index is out of range or invalid for a sequence (e.g., a list or a string).\n",
    "\n",
    "Example:\n",
    "my_list = [1, 2, 3]\n",
    "\n",
    "try:\n",
    "    value = my_list[3]\n",
    "except IndexError as e:\n",
    "    print(\"Error: Index out of range\")\n"
   ]
  },
  {
   "cell_type": "markdown",
   "id": "721f0b70-c6ea-4243-a41d-ebb7677eebac",
   "metadata": {},
   "source": [
    "(Q.5)\n",
    "ImportError is an exception that is raised when an import statement fails to import a module or when there is an issue with the imported module.\n",
    "\n",
    "ModuleNotFoundError is a subclass of ImportError that specifically indicates that the requested module could not be found or imported.\n",
    "\n",
    "ImportError: This exception is raised when an import statement encounters an error while trying to import a module. It can occur due to various reasons, such as:\n",
    "\n",
    "The module does not exist or is not installed.\n",
    "There is an issue with the module's code or dependencies.\n",
    "The module file has incorrect permissions.\n",
    "The module file is in an invalid location.\n",
    "Example:\n",
    "try:\n",
    "    import my_module\n",
    "except ImportError as e:\n",
    "    print(\"Error: Failed to import module\")\n",
    "In this example, the import statement attempts to import the module my_module. If the module does not exist or cannot be imported due to any other reason, an ImportError is raised. The program catches the exception and prints an appropriate error message."
   ]
  },
  {
   "cell_type": "code",
   "execution_count": null,
   "id": "f42ce950-e9f5-4a52-b159-22b3758a865c",
   "metadata": {},
   "outputs": [],
   "source": [
    "(Q.6)\n",
    "Here are some best practices for exception handling in Python:\n",
    "\n",
    "1. Be specific in exception handling: Catch and handle exceptions at the appropriate level of granularity. Instead of using a broad `except` block, catch specific exceptions that you expect and can handle. This helps in maintaining code clarity and prevents unintentionally catching unrelated exceptions.\n",
    "\n",
    "2. Use multiple `except` blocks: When handling multiple exceptions, use separate `except` blocks for each exception type. This allows you to handle different exceptions differently and provides better visibility into the specific exception being handled.\n",
    "\n",
    "3. Use `finally` for cleanup: Use the `finally` block to perform cleanup operations that should always be executed, regardless of whether an exception occurred or not. Common use cases include closing files, releasing resources, or restoring the program's state.\n",
    "\n",
    "4. Avoid silent failures: Avoid catching exceptions without providing any feedback or error handling. Silent failures can lead to difficult-to-debug issues. Instead, handle exceptions appropriately by logging error messages, providing user feedback, or taking corrective actions.\n",
    "\n",
    "5. Avoid overly broad exception handling: Avoid using a generic `except` block without specifying the exception type. This can mask errors and make debugging challenging. Catch specific exceptions and handle them accordingly, allowing other exceptions to propagate up the call stack.\n",
    "\n",
    "6. Log or report exceptions: When catching exceptions, consider logging or reporting the exception details. This helps in troubleshooting and understanding the cause of errors. Logging the exception traceback or sending error reports can be invaluable in identifying and resolving issues.\n",
    "\n",
    "7. Create custom exception classes: For specific scenarios or domain-specific errors, consider creating custom exception classes that inherit from built-in exception classes. This provides clarity and allows for targeted exception handling.\n",
    "\n",
    "8. Follow the EAFP (Easier to Ask for Forgiveness than Permission) principle: Python's preferred coding style is to \"ask for forgiveness\" by handling exceptions, rather than checking for conditions beforehand. This promotes cleaner and more readable code.\n",
    "\n",
    "9. Use context managers (`with` statement): Utilize context managers, often implemented using the `with` statement, to ensure proper handling of resources such as files or network connections. Context managers automatically handle resource cleanup and exception propagation.\n",
    "\n",
    "10. Reraise exceptions selectively: If you catch an exception but cannot handle it effectively, consider reraising the exception using the `raise` statement. This allows the exception to propagate up the call stack to be handled at a higher level.\n"
   ]
  }
 ],
 "metadata": {
  "kernelspec": {
   "display_name": "Python 3 (ipykernel)",
   "language": "python",
   "name": "python3"
  },
  "language_info": {
   "codemirror_mode": {
    "name": "ipython",
    "version": 3
   },
   "file_extension": ".py",
   "mimetype": "text/x-python",
   "name": "python",
   "nbconvert_exporter": "python",
   "pygments_lexer": "ipython3",
   "version": "3.10.8"
  }
 },
 "nbformat": 4,
 "nbformat_minor": 5
}
