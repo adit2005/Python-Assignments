{
 "cells": [
  {
   "cell_type": "code",
   "execution_count": null,
   "id": "7b063953-766b-408a-a2cf-ab87cfc9051b",
   "metadata": {},
   "outputs": [],
   "source": [
    "(Q.1)\n",
    "Ans.1 \n",
    "For loop: A for loop is a control flow statement that executes code repeatedly for a particular number of iterations. In this control flow statement, the keyword used is for. The for loop is used when the number of iterations is already known.\n",
    "\n",
    "For example if we want to print numbers from 1 to 9 then we can use for loop to do so. code is given below :\n",
    "for x in range(1,10):\n",
    "  print(x) \n",
    "  \n",
    "While Loop: A \"while\" loop is used when the number of iterations is unknown. The statement repeats itself till the boolean value becomes false. In a while loop, the condition is tested at the start, also known as the pre-test loop.\n",
    "For example if we want to print i as long as i is less than 9 then we have to use while loop. code is given below:\n",
    "i = 1\n",
    "while i < 9:\n",
    "  print(i)\n",
    "  i += 1\n"
   ]
  },
  {
   "cell_type": "code",
   "execution_count": null,
   "id": "a6fcd443-8ab1-469f-8ad5-a7279016d2f0",
   "metadata": {},
   "outputs": [],
   "source": [
    "(Q.2)\n",
    "Ans.2\n",
    "Sum and Product using while loop\n",
    " sum: \n",
    " # Sum of natural numbers up to num\n",
    "\n",
    "num = 10\n",
    "\n",
    "if num < 0:\n",
    "   print(\"Enter a positive number\")\n",
    "else:\n",
    "   sum = 0\n",
    "   while(num > 0):\n",
    "       sum += num\n",
    "       num -= 1\n",
    "   print(\"The sum is\", sum)\n",
    "   \n",
    "Product:\n",
    "num = 10\n",
    "if num < 0:\n",
    "   print(\"Enter a positive number\")\n",
    "else:\n",
    "   product = 1\n",
    "   while(num > 0):\n",
    "       product *= num\n",
    "       num -= 1\n",
    "   print(\"The product is\", product)\n",
    "   \n",
    "   \n",
    "Sum and Product using For loop :\n",
    "\n",
    "sum:\n",
    "total_sum = 0 \n",
    "for number in range(1, 11): \n",
    "    total_sum += number \n",
    "print(\"The sum of the first 10 numbers is:\", total_sum) \n",
    "\n",
    "product: \n",
    "\n",
    "total_prd = 1 \n",
    "for number in range(1, 11): \n",
    "    total_prd *= number \n",
    "print(\"The product of the first 10 numbers is:\", total_prd) \n"
   ]
  },
  {
   "cell_type": "code",
   "execution_count": null,
   "id": "59670d2f-e3a6-49b8-b7e3-d5629f0033fa",
   "metadata": {},
   "outputs": [],
   "source": [
    "(Q.3)\n",
    "Ans.3\n",
    "def calculate_electricity_bill(units):\n",
    "    total_bill = 0\n",
    "    if units <= 100:\n",
    "        total_bill = units * 4.5\n",
    "    elif units <= 200:\n",
    "        total_bill = 100 * 4.5 + (units - 100) * 6\n",
    "    elif units <= 300:\n",
    "        total_bill = 100 * 4.5 + 100 * 6 + (units - 200) * 10\n",
    "    else:\n",
    "        total_bill = 100 * 4.5 + 100 * 6 + 100 * 10 + (units - 300) * 20\n",
    "\n",
    "    return total_bill\n",
    "\n",
    "units_consumed = int(input(\"Enter units of electricity consumed in a month: \"))\n",
    "\n",
    "bill_amount = calculate_electricity_bill(units_consumed)\n",
    "\n",
    "print(\"Total Electricity Bill: Rs.\", bill_amount)\n"
   ]
  },
  {
   "cell_type": "code",
   "execution_count": null,
   "id": "81bc0bee-e347-400c-a2f5-dddc9c0b0953",
   "metadata": {},
   "outputs": [],
   "source": [
    "(Q.4)\n",
    "Ans.4\n",
    "cubes_divisible_by_4_or_5 = []\n",
    "for num in range(1, 101):\n",
    "    cube = num ** 3\n",
    "    if cube % 4 == 0 or cube % 5 == 0:\n",
    "        cubes_divisible_by_4_or_5.append(num)\n",
    "\n",
    "print(\"Numbers whose cubes are divisible by 4 or 5 (using for loop):\", cubes_divisible_by_4_or_5)\n"
   ]
  },
  {
   "cell_type": "code",
   "execution_count": null,
   "id": "79f48b95-5481-4d56-85d2-6396815b5e85",
   "metadata": {},
   "outputs": [],
   "source": [
    "(Q.5)\n",
    "Ans.5\n",
    "string = \"I want to become a data scientist\"\n",
    "vowels = \"aeiouAEIOU\"  \n",
    "\n",
    "filtered_vowels = [char for char in string if char in vowels] \n",
    "count = len(filtered_vowels)  \n",
    "\n",
    "print(\"Filtered vowels in the string:\", filtered_vowels)\n",
    "print(\"Count of filtered vowels:\", count)\n"
   ]
  }
 ],
 "metadata": {
  "kernelspec": {
   "display_name": "Python 3 (ipykernel)",
   "language": "python",
   "name": "python3"
  },
  "language_info": {
   "codemirror_mode": {
    "name": "ipython",
    "version": 3
   },
   "file_extension": ".py",
   "mimetype": "text/x-python",
   "name": "python",
   "nbconvert_exporter": "python",
   "pygments_lexer": "ipython3",
   "version": "3.10.8"
  }
 },
 "nbformat": 4,
 "nbformat_minor": 5
}
