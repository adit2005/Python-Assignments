{
 "cells": [
  {
   "cell_type": "code",
   "execution_count": null,
   "id": "0c4f7e20-ae72-41cc-8477-97e437d1a119",
   "metadata": {},
   "outputs": [],
   "source": [
    "(Q.1)\n",
    "def product_of_numbers(lst):\n",
    "    flat_lst = []\n",
    "    for item in lst:\n",
    "        if type(item) == list:\n",
    "            flat_lst.extend(item)\n",
    "        elif type(item) == dict:\n",
    "            for key, value in item.items():\n",
    "                if isinstance(key, int):\n",
    "                    flat_lst.append(key)\n",
    "                if isinstance(value, int):\n",
    "                    flat_lst.append(value)\n",
    "                if isinstance(value, list):\n",
    "                    flat_lst.extend(value)\n",
    "                if isinstance(value, tuple):\n",
    "                    flat_lst.extend(value)\n",
    "        else:\n",
    "            flat_lst.append(item)\n",
    "    product = 1\n",
    "    for num in flat_lst:\n",
    "        if isinstance(num, int):\n",
    "            product *= num\n",
    "    return product\n",
    "\n",
    "list1 = [1,2,3,4, [44,55,66, True], False, (34,56,78,89,34), {1,2,3,3,2,1}, {1:34, \"key2\": [55, 67, 78, 89], 4: (45,22,61,34)},\n",
    "         [56, 'data science'], 'Machine Learning']\n",
    "\n",
    "print(product_of_numbers(list1))  \n"
   ]
  },
  {
   "cell_type": "code",
   "execution_count": null,
   "id": "8416f965-fce5-4b5a-a48c-a0d82916005a",
   "metadata": {},
   "outputs": [],
   "source": [
    "(Q.2)\n",
    "def encrypt_message(message):\n",
    "    encrypted = \"\"\n",
    "    for letter in message.lower():\n",
    "        if letter.isalpha():\n",
    "            encrypted += chr(219 - ord(letter))\n",
    "        elif letter == \" \":\n",
    "            encrypted += \"$\"\n",
    "        else:\n",
    "            encrypted += letter\n",
    "    return encrypted\n",
    "\n",
    "input_sentence = \"I want to become a Data Scientist.\"\n",
    "encrypted_sentence = encrypt_message(input_sentence)\n",
    "print(encrypted_sentence)\n"
   ]
  }
 ],
 "metadata": {
  "kernelspec": {
   "display_name": "Python 3 (ipykernel)",
   "language": "python",
   "name": "python3"
  },
  "language_info": {
   "codemirror_mode": {
    "name": "ipython",
    "version": 3
   },
   "file_extension": ".py",
   "mimetype": "text/x-python",
   "name": "python",
   "nbconvert_exporter": "python",
   "pygments_lexer": "ipython3",
   "version": "3.10.8"
  }
 },
 "nbformat": 4,
 "nbformat_minor": 5
}
