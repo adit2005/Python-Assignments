{
 "cells": [
  {
   "cell_type": "code",
   "execution_count": null,
   "id": "49fcde99-f253-4e79-bb9b-1b4622a47eaf",
   "metadata": {},
   "outputs": [],
   "source": [
    "(Q.1)\n",
    "lst = [('Sachin Tendulkar', 34357), ('Ricky Ponting', 27483), ('Jack Kallis', 25534), ('Virat Kohli', 24936)]\n",
    "sorted_lst = sorted(lst, key=lambda x: x[1])\n",
    "print(sorted_lst)\n"
   ]
  },
  {
   "cell_type": "code",
   "execution_count": null,
   "id": "521835fa-e05c-43cc-83fd-b64703dae6e1",
   "metadata": {},
   "outputs": [],
   "source": [
    "(Q.2)\n",
    "nums = [1, 2, 3, 4, 5, 6, 7, 8, 9, 10]\n",
    "squares = list(map(lambda x: x**2, nums))\n",
    "print(squares)\n"
   ]
  },
  {
   "cell_type": "code",
   "execution_count": null,
   "id": "6ddf133a-d88a-47fd-b329-91c3cb364c93",
   "metadata": {},
   "outputs": [],
   "source": [
    "(Q.3)\n",
    "numbers = [1, 2, 3, 4, 5]\n",
    "strings_tuple = tuple(map(lambda num: str(num), numbers))\n",
    "print(strings_tuple)\n"
   ]
  },
  {
   "cell_type": "code",
   "execution_count": null,
   "id": "7c01dc8f-f3a9-4bbb-8df3-679046700ec0",
   "metadata": {},
   "outputs": [],
   "source": [
    "(Q.4)\n",
    "from functools import reduce\n",
    "\n",
    "numbers = list(range(1, 26))\n",
    "product = reduce(lambda x, y: x * y, numbers)\n",
    "print(product)\n"
   ]
  },
  {
   "cell_type": "code",
   "execution_count": null,
   "id": "ecf6bb10-56aa-4400-b963-7a8ff43d733e",
   "metadata": {},
   "outputs": [],
   "source": [
    "(Q.5)\n",
    "numbers = [2, 3, 6, 9, 27, 60, 90, 120, 55, 46]\n",
    "filtered_numbers = list(filter(lambda num: num % 2 == 0 and num % 3 == 0, numbers))\n",
    "print(filtered_numbers)\n"
   ]
  },
  {
   "cell_type": "code",
   "execution_count": null,
   "id": "94b02bc2-ab0f-4339-963f-7c94c8b89485",
   "metadata": {},
   "outputs": [],
   "source": [
    "(Q.6)\n",
    "strings = ['python', 'php', 'aba', 'radar', 'level']\n",
    "palindromes = list(filter(lambda string: string == string[::-1], strings))\n",
    "print(palindromes)\n"
   ]
  }
 ],
 "metadata": {
  "kernelspec": {
   "display_name": "Python 3 (ipykernel)",
   "language": "python",
   "name": "python3"
  },
  "language_info": {
   "codemirror_mode": {
    "name": "ipython",
    "version": 3
   },
   "file_extension": ".py",
   "mimetype": "text/x-python",
   "name": "python",
   "nbconvert_exporter": "python",
   "pygments_lexer": "ipython3",
   "version": "3.10.8"
  }
 },
 "nbformat": 4,
 "nbformat_minor": 5
}
