{
 "cells": [
  {
   "cell_type": "code",
   "execution_count": null,
   "id": "a4138586-e369-46c1-b2b5-19a8d613da7d",
   "metadata": {},
   "outputs": [],
   "source": [
    "(Q.1)\n",
    "import re\n",
    "\n",
    "def check_password(password):\n",
    "    # Check password length\n",
    "    if len(password) != 10:\n",
    "        return \"Invalid Password\"\n",
    "    \n",
    "    # Check for uppercase letters\n",
    "    uppercase_count = sum(1 for c in password if c.isupper())\n",
    "    if uppercase_count < 2:\n",
    "        return \"Invalid Password\"\n",
    "    \n",
    "    # Check for lowercase letters\n",
    "    lowercase_count = sum(1 for c in password if c.islower())\n",
    "    if lowercase_count < 2:\n",
    "        return \"Invalid Password\"\n",
    "    \n",
    "    # Check for numbers\n",
    "    if not any(c.isdigit() for c in password):\n",
    "        return \"Invalid Password\"\n",
    "    \n",
    "    # Check for special characters\n",
    "    special_count = len(re.findall(r'[!@#$%^&*(),.?\":{}|<>]', password))\n",
    "    if special_count < 3:\n",
    "        return \"Invalid Password\"\n",
    "    \n",
    "    # If all checks pass, return \"Valid Password\"\n",
    "    return \"Valid Password\"\n"
   ]
  },
  {
   "cell_type": "code",
   "execution_count": null,
   "id": "0f2939a9-2847-4a19-a74b-67ddfeaf6094",
   "metadata": {},
   "outputs": [],
   "source": [
    "(Q.2)\n",
    "\n",
    " (1)\n",
    "strings = [\"apple\", \"banana\", \"cherry\", \"date\", \"elderberry\"]\n",
    "letter = \"c\"\n",
    "\n",
    "filtered_strings = list(filter(lambda s: s.startswith(letter), strings))\n",
    "print(filtered_strings) \n",
    " (2)\n",
    "strings = [\"123\", \"a45\", \"6789\", \"xyz\", \"42.0\"]\n",
    "filtered_strings = list(filter(lambda s: s.isdigit(), strings))\n",
    "print(filtered_strings)  \n",
    " (3)\n",
    "fruits = [(\"mango\",99),(\"orange\",80),(\"grapes\",1000),(\"apple\",200)]\n",
    "sorted_fruits = sorted(fruits, key=lambda x: x[1])\n",
    "print(sorted_fruits)  \n",
    " (4)\n",
    "squares = [x ** 2 for x in range(1, 11)]\n",
    "print(squares) \n",
    " (5)\n",
    "import math\n",
    "numbers = range(1, 11)\n",
    "cube_roots = list(map(lambda x: math.pow(x, 1/3), numbers))\n",
    "print(cube_roots)  \n",
    "(6)\n",
    "even_check = lambda x: x % 2 == 0\n",
    "print(even_check(5))  \n",
    "print(even_check(6)) \n",
    "(7)\n",
    "numbers = [1, 2, 3, 4, 5, 6, 7, 8, 9, 10]\n",
    "filtered_numbers = list(filter(lambda x: x % 2 != 0, numbers))\n",
    "print(filtered_numbers) \n",
    "(8)\n",
    "numbers = [1, 2, 3, 4, 5, 6, -1, -2, -3, -4, -5, 0]\n",
    "positive_numbers = [x for x in numbers if x > 0]\n",
    "negative_numbers = [x for x in numbers if x < 0]"
   ]
  }
 ],
 "metadata": {
  "kernelspec": {
   "display_name": "Python 3 (ipykernel)",
   "language": "python",
   "name": "python3"
  },
  "language_info": {
   "codemirror_mode": {
    "name": "ipython",
    "version": 3
   },
   "file_extension": ".py",
   "mimetype": "text/x-python",
   "name": "python",
   "nbconvert_exporter": "python",
   "pygments_lexer": "ipython3",
   "version": "3.10.8"
  }
 },
 "nbformat": 4,
 "nbformat_minor": 5
}
