{
 "cells": [
  {
   "cell_type": "code",
   "execution_count": null,
   "id": "18d42982-c0b9-479a-8201-f49e4861763c",
   "metadata": {},
   "outputs": [],
   "source": [
    "(Q.1)\n",
    " Python was created by Guido van Rossum, a Dutch programmer, in the late 1980s. He started working on Python in December \n",
    "    1989 and released the first version, Python 0.9.0, in February 1991. Guido van Rossum continued to lead the development\n",
    "    of Python until 2018, when he retired from his role as the \"Benevolent Dictator For Life\" (BDFL) of the Python\n",
    "    community. Today, Python is developed by a large and diverse community of contributors, led by the Python Software \n",
    "    Foundation \n",
    "    (PSF)."
   ]
  },
  {
   "cell_type": "code",
   "execution_count": null,
   "id": "7b66278f-4a59-4594-9322-6c01a703c176",
   "metadata": {},
   "outputs": [],
   "source": [
    "(Q.2)\n",
    "Python supports multiple programming paradigms, including:\n",
    "\n",
    "1)Procedural programming: This is a programming paradigm that focuses on creating procedures or functions that perform\n",
    "specific tasks. In Python, you can write procedural code by defining functions and calling them as needed.\n",
    "\n",
    "2)Object-oriented programming (OOP): This is a programming paradigm that emphasizes the use of objects, which are instances\n",
    "of classes, to represent and manipulate data. Python has full support for OOP, including features such as classes,\n",
    "inheritance, polymorphism, and encapsulation.\n",
    "\n",
    "3)Functional programming: This is a programming paradigm that emphasizes the use of functions to perform computations.\n",
    "Python supports functional programming features such as lambda functions, map, filter, and reduce.\n",
    "\n",
    "4)Aspect-oriented programming (AOP): This is a programming paradigm that focuses on the separation of concerns in software\n",
    "development. Python has some support for AOP through libraries such as AspectLib and PyAOP.\n",
    "\n",
    "Python's support for multiple programming paradigms makes it a versatile language that can be used for a wide range of \n",
    "applications."
   ]
  },
  {
   "cell_type": "code",
   "execution_count": null,
   "id": "e1202d00-2db2-4b87-82ee-0bee6bd75e7a",
   "metadata": {},
   "outputs": [],
   "source": [
    "(Q.3)\n",
    "Yes, Python is case sensitive when dealing with identifiers. This means that identifiers, such as variable names, function names, and class names, must be written\n",
    "with the correct capitalization in order to be recognized by the Python interpreter.\n",
    "\n",
    "For example, the variable name my_var is different from the variable name My_Var or my_VAR. These are three different \n",
    "identifiers in Python, and they can be used to refer to three different variables."
   ]
  },
  {
   "cell_type": "code",
   "execution_count": null,
   "id": "f4bfab6a-7e32-4130-9f49-3af3f6347a10",
   "metadata": {},
   "outputs": [],
   "source": [
    "(Q.4)\n",
    "Python files typically have a .py extension."
   ]
  },
  {
   "cell_type": "code",
   "execution_count": null,
   "id": "c16aad04-cd11-4329-9e8b-7252dd41fc51",
   "metadata": {},
   "outputs": [],
   "source": [
    "(Q.5)\n",
    "Python is an interpreted language, which means that it does not need to be compiled before it can be executed. Instead, Python code is compiled on the fly, as it \n",
    "is executed, by the Python interpreter. The interpreter reads each line of the code, converts it into bytecode, and then executes the bytecode."
   ]
  },
  {
   "cell_type": "code",
   "execution_count": null,
   "id": "80398428-0bb5-4149-94eb-6b35491025a8",
   "metadata": {},
   "outputs": [],
   "source": [
    "(Q.6)\n",
    "In Python, we can define blocks of code using the following constructs:\n",
    "\n",
    "1)Functions: A function is a block of reusable code that performs a specific task. Functions in Python are defined using the def keyword, followed by the function\n",
    "name, a set of parentheses, and a colon. The code inside the function is indented, and can include any number of statements.\n",
    "\n",
    "2)Classes: A class is a blueprint for creating objects in Python. A class defines a set of attributes and methods that can be used to create instances of the \n",
    "class. Classes in Python are defined using the class keyword, followed by the class name, a colon, and the code for the class body. Like functions, the code\n",
    "inside the class is indented.\n",
    "\n",
    "3)Loops: Loops in Python are used to repeat a block of code a certain number of times, or until a certain condition is met. There are two types of loops in\n",
    "\n",
    "Python: for loops and while loops. Both types of loops use indentation to define the code that should be repeated.\n",
    "\n",
    "4)Conditional statements: Conditional statements in Python are used to execute different blocks of code depending on whether a certain condition is true or\n",
    "false. There are two main types of conditional statements in Python: if statements and else statements. Both types of statements use indentation to define the \n",
    "code that should be executed under each condition.\n",
    "\n",
    "5)Exception handling: Exception handling in Python is used to handle errors or other exceptional conditions that might occur during the execution of a program.\n",
    "Exception handling in Python is done using the try and except keywords, followed by the code that should be executed if an exception occurs. Like other blocks of\n",
    "code in Python, the code inside the try and except blocks is indented."
   ]
  },
  {
   "cell_type": "code",
   "execution_count": null,
   "id": "3c1138dd-5482-48d7-8c81-b8f98b238d6a",
   "metadata": {},
   "outputs": [],
   "source": [
    "(Q.7)\n",
    "In Python, single-line comments are created using the hash symbol (#)."
   ]
  },
  {
   "cell_type": "code",
   "execution_count": null,
   "id": "3dc03630-c729-4e4f-b2d0-7728bdf1abbc",
   "metadata": {},
   "outputs": [],
   "source": [
    "(Q.8)\n",
    " There are several ways to find out the version of Python you are currently working with. Here are a few functions that can help:\n",
    " 1)sys.version: This function returns the version of Python as a string. You can call this function from any Python script or interpreter session.\n",
    " 2)platform.python_version(): This function returns the version of Python as a string, along with additional platform information such as the operating system.\n",
    " 3)Running python --version from the command line.   "
   ]
  },
  {
   "cell_type": "code",
   "execution_count": null,
   "id": "377feef5-5f35-49a3-8d59-c23693e1076c",
   "metadata": {},
   "outputs": [],
   "source": [
    "(Q.9)\n",
    "lambda function"
   ]
  },
  {
   "cell_type": "code",
   "execution_count": null,
   "id": "f6efd96a-8412-4015-acd3-d500fbad8f29",
   "metadata": {},
   "outputs": [],
   "source": [
    "(Q.10)\n",
    "PIP stands for \"Pip Installs Packages\" (or \"Python Install Packages\"). It is a package manager for Python that allows you to easily install, update, and manage \n",
    "third-party libraries and modules. PIP is included by default in Python versions 3.4 and above."
   ]
  },
  {
   "cell_type": "code",
   "execution_count": null,
   "id": "aa4792df-dfa1-48ae-8de9-e8c82e873514",
   "metadata": {},
   "outputs": [],
   "source": [
    "(Q.11)\n",
    "print(): used to print messages or values to the console\n",
    "type(): used to determine the data type of a value or variable\n",
    "len(): used to determine the length of a string, list, or other iterable object\n",
    "range(): used to generate a sequence of numbers\n",
    "input(): used to get input from the user\n",
    "int(): used to convert a value to an integer\n",
    "float(): used to convert a value to a floating-point number\n",
    "str(): used to convert a value to a string\n",
    "list(): used to convert a value to a list\n",
    "dict(): used to create a dictionary\n",
    "set(): used to create a set\n",
    "sorted(): used to sort a list or other iterable object\n",
    "sum(): used to add up the elements of a list or other iterable object\n",
    "max(): used to find the largest value in a list or other iterable object\n",
    "min(): used to find the smallest value in a list or other iterable object."
   ]
  },
  {
   "cell_type": "code",
   "execution_count": null,
   "id": "be1b3a5f-e6b2-465e-9491-989cef1ad63c",
   "metadata": {},
   "outputs": [],
   "source": [
    "(Q.12)\n",
    "In Python, the maximum length of an identifier (variable, function, class name, etc.) is not explicitly defined. However, it is\n",
    "recommended to keep the length of the identifier reasonably short and descriptive for readability and maintainability purposes."
   ]
  },
  {
   "cell_type": "code",
   "execution_count": null,
   "id": "568e0750-2079-4077-a60e-6d4abcda4702",
   "metadata": {},
   "outputs": [],
   "source": [
    "(Q.13)\n",
    "here are several benefits of using Python as a programming language:\n",
    "\n",
    "Easy to learn: Python is a high-level language that is simple and easy to learn, even for beginners. It has a simple syntax and easy-to-read code, which makes it easier to write and understand.\n",
    "\n",
    "Versatile: Python can be used for a wide range of tasks, from web development and data analysis to scientific computing and artificial intelligence. It is a\n",
    "versatile language that can be used for a variety of applications.\n",
    "\n",
    "Large community and libraries: Python has a large community of developers who contribute to the language and its libraries, making it easy to find help and \n",
    "support. It also has a large number of libraries and modules available for use, which can save a lot of time and effort in development.\n",
    "\n",
    "Portable: Python is a portable language, meaning that it can be run on different platforms and operating systems without any changes to the code. This\n",
    "makes it easy to write code that can be run on different systems.\n",
    "\n",
    "High-level language: Python is a high-level language, which means that it is closer to human language than machine language. This makes it easier to read and\n",
    "understand the code, and also makes it easier to write code that is more efficient and effective.\n",
    "\n",
    "Open-source: Python is an open-source language, which means that it is free to use and distribute. This makes it accessible to everyone and allows for a \n",
    "collaborative community to contribute to its development and improvement."
   ]
  },
  {
   "cell_type": "code",
   "execution_count": null,
   "id": "9449693b-3d97-4dee-bea2-b56d8dfbab07",
   "metadata": {},
   "outputs": [],
   "source": [
    "(Q.14)\n",
    "Reference counting: Python uses reference counting to keep track of the number of references to an object. Each time a new\n",
    "reference to an object is created, the reference count is incremented, and each time a reference is deleted, the reference \n",
    "count is decremented. When the reference count of an object reaches zero, the memory allocated for the object is automatically\n",
    "deallocated.\n",
    "\n",
    "Garbage collection: Python also uses a garbage collector to deallocate memory that is no longer needed. The garbage collector\n",
    "periodically scans the memory to find objects that are no longer referenced and frees the memory allocated for those objects.\n",
    "\n",
    "Python's memory management system is designed to be automatic and transparent to the programmer, which means that developers\n",
    "don't need to worry about managing memory manually. However, it's important to keep in mind that Python's memory management\n",
    "system is not perfect, and inefficient memory usage can lead to performance issues.\n"
   ]
  },
  {
   "cell_type": "code",
   "execution_count": null,
   "id": "eb92abbc-1bfe-43e3-b2d3-95bba5f47f86",
   "metadata": {},
   "outputs": [],
   "source": [
    "(Q.15)\n",
    "Here are the steps to install Python on Windows and set path variables:\n",
    "\n",
    "Download the latest version of Python from the official website: https://www.python.org/downloads/windows/\n",
    "Run the downloaded installer and follow the prompts to install Python on your system. Make sure to select the option to add \n",
    "Python to the PATH variable during the installation process.\n",
    "\n",
    "Once Python is installed, you can verify that it is properly installed by opening a Command Prompt window and typing \"python\"\n",
    "(without the quotes) in the command line. This should open up the Python interactive interpreter.\n",
    "\n",
    "If Python is not recognized as a command, you will need to manually add Python to the PATH variable. To do this, right-click\n",
    "on \"This PC\" and select \"Properties\". Then, click on \"Advanced system settings\" and click on the \"Environment Variables\" button.\n",
    "\n",
    "In the \"System Variables\" section, scroll down and find the \"Path\" variable. Click on \"Edit\" and then \"New\". Add the path to\n",
    "your Python installation directory, for example, \"C:\\Python39\".\n",
    "\n",
    "Click \"OK\" on all the open windows to save the changes.\n",
    "\n",
    "To verify that the path variable has been set correctly, open a new Command Prompt window and type \"python\" again. If \n",
    "Python opens up, then everything is working properly."
   ]
  },
  {
   "cell_type": "code",
   "execution_count": null,
   "id": "26aeefd4-550f-47d2-9b25-fab7d3258adf",
   "metadata": {},
   "outputs": [],
   "source": [
    "(Q.16)\n",
    "Yes, Indentation is required in Python."
   ]
  }
 ],
 "metadata": {
  "kernelspec": {
   "display_name": "Python 3 (ipykernel)",
   "language": "python",
   "name": "python3"
  },
  "language_info": {
   "codemirror_mode": {
    "name": "ipython",
    "version": 3
   },
   "file_extension": ".py",
   "mimetype": "text/x-python",
   "name": "python",
   "nbconvert_exporter": "python",
   "pygments_lexer": "ipython3",
   "version": "3.10.8"
  }
 },
 "nbformat": 4,
 "nbformat_minor": 5
}
